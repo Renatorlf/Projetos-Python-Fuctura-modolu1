{
  "nbformat": 4,
  "nbformat_minor": 0,
  "metadata": {
    "colab": {
      "provenance": [],
      "authorship_tag": "ABX9TyP1hus7teGYgPb2Z14cj/DK",
      "include_colab_link": true
    },
    "kernelspec": {
      "name": "python3",
      "display_name": "Python 3"
    },
    "language_info": {
      "name": "python"
    }
  },
  "cells": [
    {
      "cell_type": "markdown",
      "metadata": {
        "id": "view-in-github",
        "colab_type": "text"
      },
      "source": [
        "<a href=\"https://colab.research.google.com/github/Renatorlf/Projetos-Python-Fuctura-modolu1/blob/main/Projetos_aula_1_e_2.ipynb\" target=\"_parent\"><img src=\"https://colab.research.google.com/assets/colab-badge.svg\" alt=\"Open In Colab\"/></a>"
      ]
    },
    {
      "cell_type": "markdown",
      "source": [
        "PROJETO 1: CRIAR UM SISTEMA QUE VALIDA UM CUPOM:"
      ],
      "metadata": {
        "id": "XFQC7-G2AS9l"
      }
    },
    {
      "cell_type": "code",
      "source": [
        "#entrada:\n",
        "\n",
        "cupom = str(input('Digite seu cupom: '))\n",
        "#Recebendo dados de entrada do usuário\n",
        "#processamento\n",
        "\n",
        "if(cupom == 'FUCTURA1' or cupom == 'FUCTURA2'):\n",
        "  #condicinal de comparação do cupom recebido\n",
        "\n",
        "  # SAÍDA\n",
        "  print('Você ganhou 15% de desconto')\n",
        "  #mostrando o valor do desconto recebido"
      ],
      "metadata": {
        "id": "hgiCinbB78X_"
      },
      "execution_count": null,
      "outputs": []
    },
    {
      "cell_type": "markdown",
      "source": [
        "PROJETO 2 - UTILIZANDO ELSE"
      ],
      "metadata": {
        "id": "zS-J4UxSAjeK"
      }
    },
    {
      "cell_type": "code",
      "source": [
        "#entrada:\n",
        "\n",
        "cupom = str(input('Digite seu cupom: '))\n",
        "#Recebendo dados de entrada do usuário\n",
        "\n",
        "#processamento\n",
        "\n",
        "if(cupom == 'FUCTURA1' or cupom == 'FUCTURA2'):\n",
        "  #verificando a condicional do cupon recebido\n",
        "\n",
        "  # SAÍDA\n",
        "  print('Você ganhou 15% de desconto')\n",
        "  #imprimindo o calor do desconto recebido\n",
        "else:\n",
        "  #SAIDA\n",
        "  print('Esse cupom não é válido')\n",
        "  #imprimndo que o cupom recebido pelo usuário não foi válido"
      ],
      "metadata": {
        "id": "HDNDD_wwAowh"
      },
      "execution_count": null,
      "outputs": []
    },
    {
      "cell_type": "markdown",
      "source": [
        "PROJETO 3 - ELIF"
      ],
      "metadata": {
        "id": "tuXuWeDbAskh"
      }
    },
    {
      "cell_type": "code",
      "source": [
        "#entrada:\n",
        "\n",
        "cupom = str(input('Digite seu cupom: '))\n",
        "#Recebendo dados do usuário\n",
        "\n",
        "#processamento\n",
        "\n",
        "if(cupom == 'FUCTURA1' or cupom == 'FUCTURA2'):\n",
        "  #verificando se o usuário recebu o cupom 1 ou cumpom 2\n",
        "  print('Você ganhou 15% de desconto')\n",
        "  #imprimindo o valor do desconto recebido pelo usuário\n",
        "\n",
        "elif(cupom == 'FUCTURA2'):\n",
        "  #verificando o se o cupom recebido é igual ao copom 2\n",
        "  print('Você ganhou 10% de desconto')\n",
        "  #imprimndo o valor do desconto do cupom 2 recebido pelo cliente\n",
        "  \n",
        "else:\n",
        "  print('Esse cupom não é válido')\n",
        "  #imprimindo que o cupom não foi válido"
      ],
      "metadata": {
        "id": "gwTlGFJyAvRM"
      },
      "execution_count": null,
      "outputs": []
    },
    {
      "cell_type": "markdown",
      "source": [
        "PROJETO - 4 - CRIE UM SISTEMA DE EMPRESTIMO QUE SE O VALOR FOR MENOR OU IGUAL A 50% DO SEU SALÁRIO ENTÃO O EMPRESTIMO SERÁ APROVADO, SENÃO, SE O VALOR DO EMPRESTIMO FOR MENOR OU IGUAL A 75% O EMPRESTIMO FICARÁ EM ANALISEN SENÃO O EMPRESTIMO NÃO FOI APROVADO."
      ],
      "metadata": {
        "id": "_OkzigByBRsq"
      }
    },
    {
      "cell_type": "code",
      "source": [
        "#Entrada de dados\n",
        "salario = float(input('Digite o valor do seu salário: '))\n",
        "#recebendo o o valor do salário\n",
        "emprestimo = float(input('Digite o valor do emprestimo: '))\n",
        "#recebendo o valor do emprestimo\n",
        "\n",
        "#Processamento\n",
        "if(emprestimo <= salario * 0.5):\n",
        "  #verificando se o valor do emprestimo corresponde a 50% do valor do salário\n",
        "  print('Emprestimo aprovado!!')\n",
        "  #imprimindo que o emprestimo foi aprovado\n",
        "  \n",
        "elif(emprestimo <= salario * 0.75):\n",
        "  #verificando se o valor do emprestimo corresponde a 70% do valor do salário\n",
        "  print('Emprestimo em analise!!')\n",
        "  #imprimindo que o emprestimo está em analise\n",
        "else:\n",
        "  print('Emprestimo não aprovado!!')\n",
        "  #imprimindo que o emprestimo não foi aprovado"
      ],
      "metadata": {
        "id": "H7OLYWJmBUSS"
      },
      "execution_count": null,
      "outputs": []
    },
    {
      "cell_type": "markdown",
      "source": [
        "PROJETO 5 - CRIANDO UM RPG"
      ],
      "metadata": {
        "id": "8NrX4p4qBbZb"
      }
    },
    {
      "cell_type": "code",
      "source": [
        "seuNome = str(input('Digite seu nome para iniciarmos a aula:'))\n",
        "#recebendo o nome do jogador\n",
        "\n",
        "print('Bem vindo ao FUCTURA GAME', seuNome,'!!')\n",
        "#imprimindo o nome do jogador\n",
        "\n",
        "print('Você está em uma caverna e a primeira coisa que vê são 3 itens:')\n",
        "#imprimindo as informações para o jogador\n",
        "\n",
        "print('Uma espada, um arco e um cajado, qual deseja pegar?')\n",
        "#imprimindo as opções de armas para o jogador\n",
        "\n",
        "arma = str(input('Digite 1 para espada, 2 para arco e 3 para cajado.'))\n",
        "#recebendo a opção de arma escolhida pelo jogador\n",
        "\n",
        "if(arma == \"1\"):\n",
        "  #vereificando se a arma escolhida pelo jogado é igual a arma 1 (espada)\n",
        "  print('Você se tornou um guerreiro! E agora apareceu um goblin na sua frente')\n",
        "  #imprimindo infirmçãoes para o jogador sobre a evolução no jogo\n",
        "  print('O que deseja fazer? Digite 1 para atacar ou 2 para fugir')\n",
        "  #imprimindo opções da próxima ação do jogador\n",
        "  acao = str(input('Digite sua ação'))\n",
        "  #recebdo dados da ação escolhida pelo jogador\n",
        "  if(acao == '1'):\n",
        "    #comparado se a ação escolhida pelo jogador é igual a ação 1\n",
        "    print('Você acertou o goblin mas ele tinha amigos e lhe matou.')\n",
        "    #imprimindo o resultado da primeira ação escolhida pelo jogador\n",
        "  elif(acao == \"2\"):\n",
        "    #coparando se açao escolhida pelo jogador é igual a ação2\n",
        "    print('Você não conseguiu fugir e infelizmente levou uma flechada.')\n",
        "    #imprimindo o resultado da segunda ação escolhida pelo jogador\n",
        "  else:\n",
        "    print('Você não escolheu a ação correta, os deuses não lhe ajudarão.')\n",
        "    #imprimindo a escolha de uma ação que não seja a 1 ou a 2.\n",
        "elif(arma == '2'):\n",
        "  #comparando se a arma escolhida pelo jogador foi a arma 2.\n",
        "  print('Voce se tornou um arqueiro!')\n",
        "  #imprimindo a informação pela escolha da arma 2\n",
        "  print('Apareceu uma cobra na sua frente o que você vai fazer?')\n",
        "  #imprimindo a informação sobre a próxima ação que o jogador deve fazer.\n",
        "  print('Digite 1 para atacar ou 2 para fugir.')\n",
        "  #impirmindo as opções de ação para o jogador\n",
        "  acao = str(input('Digite aqui sua ação: '))\n",
        "  #recebendo a ação escolhida pelo jogador\n",
        "  if(acao == \"1\"):\n",
        "    #verificando se a ação escolhida foi a opção 1\n",
        "    print('Você atacou mas a flecha não matou a cobra e ela lhe picou e você!')  \n",
        "    #imprimindo resultado da ação 1 escolhida pelo jogador\n",
        "  elif(acao == '2'):\n",
        "    #comparando se ação escolhida pelo jogadro foi igual a ação 2.\n",
        "    print('Você tentou fugir mas caiu em um buraco e morreu!!')\n",
        "    #imprimindo o resultado da ação 2 escolhida pelo jogador.\n",
        "  else:\n",
        "     print('Você não escolheu a ação correta, os deuses não lhe ajudarão.')\n",
        "    #imprimindo a escolha de uma ação que não seja a 1 ou a 2.\n",
        "elif(arma == \"3\"):\n",
        "  #verificando se a arma escolhida pelo jogador foi a arma 3\n",
        "  print('Você se tornou um feiticeiro!, agora apareceu um Ogro na sua frente')\n",
        "  #imprimindo a informação da pelo escolha da arma 3\n",
        "  print('Digite 1 para atacar ou 2 para fugir')\n",
        "  #impirmindo as opções de ação para o jogador\n",
        "  acao = str(input('Digite aqui sua ação: '))\n",
        "  #recebendo a ação escolhida pelo jogador\n",
        "  if(acao == \"1\"):\n",
        "    #verificando se a ação 1 foi a escolhida pelo jogador\n",
        "    print('Você derrotu o ogro com um feitiço!')\n",
        "    #imprimindo o resultado da ação 1 escolhida pelo jogador\n",
        "  elif(acao == '2'):\n",
        "    #verificando se a ação escolhida pelo jogador é a ação2\n",
        "    print('Você é um cagão e fugiu com medo!')\n",
        "    #imprimindo o resultado da ação 2 escolhida pelo jogador.\n",
        "  else:\n",
        "    print('Você não escolheu a ação correta, os deuses não lhe ajudarão.')\n",
        "    #imprimindo a escolha de uma ação que não seja a 1 ou a 2.\n",
        "print('Fim do jogo!!!')\n",
        "#imprimindo mensagem de final do jogo"
      ],
      "metadata": {
        "id": "LfdCbTnTBgkS"
      },
      "execution_count": null,
      "outputs": []
    },
    {
      "cell_type": "markdown",
      "source": [],
      "metadata": {
        "id": "iHkPRYRWCUiz"
      }
    },
    {
      "cell_type": "markdown",
      "source": [],
      "metadata": {
        "id": "FJWV8EhbDCmE"
      }
    },
    {
      "cell_type": "markdown",
      "source": [
        "Projeto 1 - aula 2 - Crie um programa que armazene 3 notas de um aluno e no final é mostrado qual a média que esse aluno teve e se ele alcançou a média 7 e stá aprovado caso contrário reporvado:"
      ],
      "metadata": {
        "id": "X9Gh-JQXDmTm"
      }
    },
    {
      "cell_type": "code",
      "source": [
        "#Entrada\n",
        "nota1 = float(input('Digite a primeira nota do aluno: '))\n",
        "#Recebendo a primeira nota do aluno\n",
        "nota2 = float(input('Digite a segunda nota do aluno: '))\n",
        "#Recebendo a segunda nota do aluno\n",
        "nota3 = float(input('Diigite a terceira nota do aluno: '))\n",
        "#Recebendo a terceira nota do aluno\n",
        "\n",
        "#Processamento\n",
        "media = (nota1 + nota2 + nota3)/3\n",
        "#Calculando a média do aluno\n",
        "print('A média do aluno é: ', media)\n",
        "#Imprimindo a media obtida pelo aluno\n",
        "\n",
        "#saída\n",
        "if(media >= 7):\n",
        "  #comparando se a média é maior ou igual a 7 (true)\n",
        "  print('Aluno aprovado Parabéns!!')\n",
        "  #imprimindo o resultado da comparação é verdadeira(true)\n",
        "else:\n",
        "  print('Aluno reprovado')\n",
        "  #imprimindo o resltando da comparação sendo uma sentença falsa(false)\n",
        "\n"
      ],
      "metadata": {
        "id": "WG_6FmM7EXVG"
      },
      "execution_count": null,
      "outputs": []
    },
    {
      "cell_type": "markdown",
      "source": [
        "Projeto 2 - aula 2 - Crie um sistema que o usuário adiciona 3 nostas de um aluno e no final é mostrado qual é a média obtida pelo aluno e se ele alcançou a média 7 sendo aprovado, caso contrairo ele é reprovado, utilizando listas.\n"
      ],
      "metadata": {
        "id": "7-gloZS_HrTo"
      }
    },
    {
      "cell_type": "code",
      "source": [
        "#Entrada de dados\n",
        "\n",
        "listaNotas = []\n",
        "#Definindo uma lista vázia\n",
        "nota1 = float(input('Digite a primeira nota do aluno: '))\n",
        "#Recebendo a primeira nota do aluno\n",
        "nota2 = float(input('Digite a segunda nota do aluno: '))\n",
        "#Recebendo a segunda nota do aluno\n",
        "nota3 = float(input('Diigite a terceira nota do aluno: '))\n",
        "#Recebendo a terceira nota do aluno\n",
        "\n",
        "listaNotas.append(nota1)\n",
        "#Adicionando a primeira nota na lista\n",
        "listaNotas.append(nota2)\n",
        "#Adicionando a primeira nota na lista\n",
        "listaNotas.append(nota3)\n",
        "#Adicionando a terceira nota na lista\n",
        "\n",
        "print('Média obtida pelo aluno no semestre: ')\n",
        "#Imprimindo a média do aluno\n",
        "\n",
        "#Processamento\n",
        "media = sum(listaNotas) / 3\n",
        "#calculando a média do aluno com as notas adicinadas na lista\n",
        "\n",
        "if(media >= 7):\n",
        "  #comparando se a média é maior ou igual a 7 (true)\n",
        "  print('Aluno aprovado Parabéns!!')\n",
        "  #imprimindo o resultado da comparação é verdadeira(true)\n",
        "else:\n",
        "  print('Aluno reprovado')\n",
        "  #imprimindo o resltando da comparação sendo uma sentença falsa(false)\n",
        "\n",
        "\n",
        "\n"
      ],
      "metadata": {
        "id": "2OwU_DgyIY82"
      },
      "execution_count": null,
      "outputs": []
    },
    {
      "cell_type": "markdown",
      "source": [
        "Projeto 3 - aula 2 - Crie um sistema que o usuário adiciona 3 nostas de um aluno, o número da matricola, o nome e no final é mostrado qual é a média obtida pelo aluno e se ele alcançou a média 7 sendo aprovado, caso contrairo ele é reprovado, utilizando listas."
      ],
      "metadata": {
        "id": "nL_K-NDFM6Nz"
      }
    },
    {
      "cell_type": "code",
      "source": [
        "#Entrada\n",
        "\n",
        "listaNotas = []\n",
        "#Declarando lista vazia para armazenar as notas do aluno\n",
        "\n",
        "matricola = int(input('Digite a matricola: '))\n",
        "#recebendo número da matricola do aluno\n",
        "nomeAluno = str(input('Digite o nome do aluno(a): '))\n",
        "#recebendo nome do aluno\n",
        "nota1 = float(input('Digite a primeira nota do aluno(a): '))\n",
        "#Recebendo a primeira nota do aluno\n",
        "nota2 = float(input('Digite a segunda nota do aluno(a): '))\n",
        "#Recebendo a segunda nota do aluno\n",
        "nota3 = float(input('Diigite a terceira nota do aluno(a): '))\n",
        "#Recebendo a terceira nota do aluno\n",
        "\n",
        "print(f'O Nome do aluno(a) é {nomeAluno} e sua matricola é {matricola}.')\n",
        "#imprimindo nome e matricola do aluno\n",
        "\n",
        "listaNotas.append(nota1)\n",
        "#Adicionando a primeira nota na lista\n",
        "listaNotas.append(nota2)\n",
        "#Adicionando a primeira nota na lista\n",
        "listaNotas.append(nota3)\n",
        "#Adicionando a terceira nota na lista\n",
        "\n",
        "#Processamento\n",
        "media = sum(listaNotas) / 3\n",
        "#calculando a média do aluno com as notas adicinadas na lista\n",
        "\n",
        "print(f'O aluno(a) {nomeAluno} de matricola {matricola} obteve a média {media}.')\n",
        "#Imprimindo nome, matricola e média do aluno\n",
        "\n",
        "if(media >= 7):\n",
        "  #comparando se a média é maior ou igual a 7 (true)\n",
        "  print(f'O aluno(a) {nomeAluno} está aprovado Parabéns!!')\n",
        "  #imprimindo o resultado da comparação se é verdadeira(true)\n",
        "else:\n",
        "  print(f'Aluno(a) {nomeAluno} reprovado!!')\n",
        "  #imprimindo o resltando da comparação sendo uma sentença falsa(false)\n",
        "\n",
        "\n",
        "\n",
        "\n",
        "\n",
        "\n"
      ],
      "metadata": {
        "colab": {
          "base_uri": "https://localhost:8080/"
        },
        "id": "NdnfJKXcQ8Ge",
        "outputId": "757afc7d-c8e1-4e4e-887e-c3bb94e3dcdf"
      },
      "execution_count": 12,
      "outputs": [
        {
          "output_type": "stream",
          "name": "stdout",
          "text": [
            "Digite a matricola: 0039\n",
            "Digite o nome do aluno: Renato\n",
            "Digite a primeira nota do aluno: 10\n",
            "Digite a segunda nota do aluno: 10\n",
            "Diigite a terceira nota do aluno: 10\n",
            "O Nome do aluno é Renato e sua matricola é 39.\n",
            "O aluno Renato de matricola 39 obteve a média 10.0.\n",
            "Aluno Renato está aprovado Parabéns!!\n"
          ]
        }
      ]
    }
  ]
}